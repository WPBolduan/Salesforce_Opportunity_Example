{
 "cells": [
  {
   "cell_type": "code",
   "execution_count": 76,
   "metadata": {
    "collapsed": true
   },
   "outputs": [],
   "source": [
    "import pandas as pd\n",
    "pd.options.display.float_format = \"{:,.2f}\".format\n",
    "import glob\n",
    "import os\n",
    "import json\n",
    "from simple_salesforce import Salesforce, format_soql, SFType, SalesforceLogin\n",
    "from pprint import pprint\n",
    "import datetime\n"
   ]
  },
  {
   "cell_type": "code",
   "execution_count": 77,
   "metadata": {
    "collapsed": true
   },
   "outputs": [],
   "source": [
    "with open(\"login.json\", \"r\") as login_file:\n",
    "    creds = json.load(login_file)"
   ]
  },
  {
   "cell_type": "code",
   "execution_count": 78,
   "metadata": {
    "collapsed": true
   },
   "outputs": [],
   "source": [
    " #Login to SF\n",
    "username=creds['login']['username']\n",
    "password=creds['login']['password']\n",
    "security_token=creds['login']['token']\n",
    "\n",
    "session_id, instance = SalesforceLogin(\n",
    "    username=username, password=password, security_token=security_token)\n",
    "\n",
    "sf = Salesforce(instance=instance, session_id=session_id)"
   ]
  },
  {
   "cell_type": "markdown",
   "metadata": {},
   "source": [
    "Here I am reading in the opportunity information from a csv file and convert it to the right Salesforce format, it is called \"new_orders\""
   ]
  },
  {
   "cell_type": "markdown",
   "metadata": {},
   "source": []
  },
  {
   "cell_type": "code",
   "execution_count": 75,
   "metadata": {
    "collapsed": true
   },
   "outputs": [],
   "source": [
    "new_orders = new_orders.rename(columns={'Order quantity': 'Quantity', 'Unit price(in foreign currency)': 'UnitPrice', 'Order number':'Customer_PO__c', \n",
    "'Order date': 'Customer_PO_DATE__c', 'Delivery date1': 'ServiceDate'})"
   ]
  },
  {
   "cell_type": "code",
   "execution_count": 49,
   "metadata": {
    "collapsed": true
   },
   "outputs": [],
   "source": [
    "# changing to Salesforce datetime format\n",
    "def change_po_date_SF(row):\n",
    "        try:\n",
    "            return row['Customer_PO_DATE__c'].isoformat() +'Z'\n",
    "        except:\n",
    "            return \"UNSPECIFIED\"        \n",
    "        \n",
    "new_orders['Customer_PO_DATE__c'] = new_orders.apply(change_po_date_SF,axis=1) \n",
    "\n",
    "\n",
    "# changing to Salesforce datetime format\n",
    "def change_delivery_date_SF(row):\n",
    "        try:\n",
    "            return row['ServiceDate'].isoformat() +'Z'\n",
    "        except:\n",
    "            return \"UNSPECIFIED\"        \n",
    "        \n",
    "new_orders['ServiceDate'] = new_orders.apply(change_delivery_date_SF,axis=1) "
   ]
  },
  {
   "cell_type": "code",
   "execution_count": 54,
   "metadata": {
    "collapsed": true
   },
   "outputs": [],
   "source": [
    "today = datetime.datetime.now()"
   ]
  },
  {
   "cell_type": "code",
   "execution_count": null,
   "metadata": {},
   "outputs": [],
   "source": [
    "# Create an opportunity\n",
    "# Enter opportunity name! \n",
    "\n",
    "new_opportunity = SFType('Opportunity', session_id, instance)\n",
    "data = {\n",
    "    'Name': 'some_name', \n",
    "    'StageName' :   'Closed Won', \n",
    "    'CloseDate' : (today).isoformat() +'Z',    #+ datetime.timedelta(days=45)).isoformat() + 'Z'  in the opportunity called \"Decision date\"\n",
    "    'Segment__c' : 'Services', \n",
    "    'Vertical__c' : 'Spare parts',\n",
    "    'NextStep' : 'Delivery',\n",
    "    'AccountId' : '0010Y000xxxxxx', \n",
    "    'Probability' : '100',\n",
    "    'Pricebook2Id' : '01s0Y00000xxxx'  \n",
    "}\n",
    "response = new_opportunity.create(data)\n",
    "response\n"
   ]
  },
  {
   "cell_type": "code",
   "execution_count": 56,
   "metadata": {
    "collapsed": true
   },
   "outputs": [
    {
     "name": "stderr",
     "output_type": "stream",
     "text": [
      "<ipython-input-56-0f1983947875>:1: SettingWithCopyWarning: \n",
      "A value is trying to be set on a copy of a slice from a DataFrame.\n",
      "Try using .loc[row_indexer,col_indexer] = value instead\n",
      "\n",
      "See the caveats in the documentation: https://pandas.pydata.org/pandas-docs/stable/user_guide/indexing.html#returning-a-view-versus-a-copy\n",
      "  new_orders_to_SF['OpportunityId']=response['id']\n"
     ]
    }
   ],
   "source": [
    "new_orders_to_SF['OpportunityId']=response['id']"
   ]
  },
  {
   "cell_type": "code",
   "execution_count": 58,
   "metadata": {
    "collapsed": true
   },
   "outputs": [],
   "source": [
    "# putting everything into json format\n",
    "to_sf_js = new_orders_to_SF.to_json(orient='records')\n",
    "json_dicti = json.loads(to_sf_js)"
   ]
  },
  {
   "cell_type": "code",
   "execution_count": null,
   "metadata": {},
   "outputs": [],
   "source": [
    "for i in json_dicti:\n",
    "    new_opportunity_line_item = SFType('OpportunityLineItem', session_id, instance)\n",
    "    print (i)\n",
    "    response = new_opportunity_line_item.create(i)\n",
    "    print (response)"
   ]
  }
 ],
 "metadata": {
  "interpreter": {
   "hash": "916dbcbb3f70747c44a77c7bcd40155683ae19c65e1c03b4aa3499c5328201f1"
  },
  "kernelspec": {
   "display_name": "Python 3.8.10 64-bit",
   "name": "python3"
  },
  "language_info": {
   "codemirror_mode": {
    "name": "ipython",
    "version": 3
   },
   "file_extension": ".py",
   "mimetype": "text/x-python",
   "name": "python",
   "nbconvert_exporter": "python",
   "pygments_lexer": "ipython3",
   "version": "3.8.10"
  }
 },
 "nbformat": 4,
 "nbformat_minor": 2
}
